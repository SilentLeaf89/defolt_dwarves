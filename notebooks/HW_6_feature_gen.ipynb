{
 "cells": [
  {
   "cell_type": "code",
   "execution_count": 13,
   "metadata": {},
   "outputs": [],
   "source": [
    "import pandas as pd\n",
    "import numpy as np\n",
    "\n",
    "# подготовка очищенного датасета на базе обработки в HW_6_baseline\n",
    "from src.data.clean_data import clean_data\n",
    "# подготовка датасета (Pool-ов) для обучения CatBoostClassifier аналогично HW_6_baseline\n",
    "from src.data.preprocessing_catboost_more_features import preprocessing_catboost_more_features\n",
    "from src.data.preprocessing_catboost_test import preprocessing_catboost_test\n",
    "from src.data.preprocessing_catboost_train import preprocessing_catboost_train\n",
    "from src.data.feature_combinations import feature_combinations\n",
    "\n",
    "from catboost import CatBoostClassifier\n",
    "from catboost.utils import get_roc_curve, get_confusion_matrix, select_threshold\n",
    "from catboost import Pool\n",
    "\n",
    "from sklearn.metrics import roc_auc_score\n",
    "from sklearn.metrics import precision_score\n",
    "from sklearn.metrics import recall_score\n",
    "from sklearn.model_selection import train_test_split"
   ]
  },
  {
   "attachments": {},
   "cell_type": "markdown",
   "metadata": {},
   "source": [
    "# Чистим данные и добавляем \"секретные\" признаки в датасет"
   ]
  },
  {
   "cell_type": "code",
   "execution_count": 14,
   "metadata": {},
   "outputs": [
    {
     "data": {
      "text/html": [
       "<div>\n",
       "<style scoped>\n",
       "    .dataframe tbody tr th:only-of-type {\n",
       "        vertical-align: middle;\n",
       "    }\n",
       "\n",
       "    .dataframe tbody tr th {\n",
       "        vertical-align: top;\n",
       "    }\n",
       "\n",
       "    .dataframe thead th {\n",
       "        text-align: right;\n",
       "    }\n",
       "</style>\n",
       "<table border=\"1\" class=\"dataframe\">\n",
       "  <thead>\n",
       "    <tr style=\"text-align: right;\">\n",
       "      <th></th>\n",
       "      <th>Secret_dwarf_info_1</th>\n",
       "      <th>Secret_dwarf_info_2</th>\n",
       "      <th>Secret_dwarf_info_3</th>\n",
       "      <th>Successful_deals_count</th>\n",
       "      <th>Tavern</th>\n",
       "      <th>Hashed_deal_detail_1</th>\n",
       "      <th>Hashed_deal_detail_2</th>\n",
       "      <th>Hashed_deal_detail_3</th>\n",
       "      <th>Hashed_deal_detail_4</th>\n",
       "      <th>Hashed_deal_detail_5</th>\n",
       "      <th>...</th>\n",
       "      <th>Tavern_district_2</th>\n",
       "      <th>Tavern_district_3</th>\n",
       "      <th>Tavern_district_4</th>\n",
       "      <th>Tavern_district_5</th>\n",
       "      <th>Tavern_district_6</th>\n",
       "      <th>Tavern_district_7</th>\n",
       "      <th>day_before_first_defolt</th>\n",
       "      <th>Deal_day</th>\n",
       "      <th>Deal_month</th>\n",
       "      <th>is_weekend</th>\n",
       "    </tr>\n",
       "  </thead>\n",
       "  <tbody>\n",
       "    <tr>\n",
       "      <th>0</th>\n",
       "      <td>3.5</td>\n",
       "      <td>-2.0</td>\n",
       "      <td>5.0</td>\n",
       "      <td>0.0</td>\n",
       "      <td>7</td>\n",
       "      <td>2.5</td>\n",
       "      <td>-3</td>\n",
       "      <td>8</td>\n",
       "      <td>2.5</td>\n",
       "      <td>-3</td>\n",
       "      <td>...</td>\n",
       "      <td>0</td>\n",
       "      <td>1</td>\n",
       "      <td>0</td>\n",
       "      <td>0</td>\n",
       "      <td>0</td>\n",
       "      <td>0</td>\n",
       "      <td>68</td>\n",
       "      <td>5</td>\n",
       "      <td>11</td>\n",
       "      <td>0</td>\n",
       "    </tr>\n",
       "    <tr>\n",
       "      <th>1</th>\n",
       "      <td>3.5</td>\n",
       "      <td>-2.0</td>\n",
       "      <td>5.0</td>\n",
       "      <td>2.0</td>\n",
       "      <td>7</td>\n",
       "      <td>2.5</td>\n",
       "      <td>-3</td>\n",
       "      <td>14</td>\n",
       "      <td>3.5</td>\n",
       "      <td>-3</td>\n",
       "      <td>...</td>\n",
       "      <td>0</td>\n",
       "      <td>0</td>\n",
       "      <td>1</td>\n",
       "      <td>0</td>\n",
       "      <td>0</td>\n",
       "      <td>0</td>\n",
       "      <td>222</td>\n",
       "      <td>26</td>\n",
       "      <td>8</td>\n",
       "      <td>0</td>\n",
       "    </tr>\n",
       "    <tr>\n",
       "      <th>2</th>\n",
       "      <td>3.5</td>\n",
       "      <td>-2.0</td>\n",
       "      <td>5.0</td>\n",
       "      <td>0.0</td>\n",
       "      <td>7</td>\n",
       "      <td>2.5</td>\n",
       "      <td>-3</td>\n",
       "      <td>8</td>\n",
       "      <td>2.5</td>\n",
       "      <td>-3</td>\n",
       "      <td>...</td>\n",
       "      <td>0</td>\n",
       "      <td>0</td>\n",
       "      <td>0</td>\n",
       "      <td>0</td>\n",
       "      <td>1</td>\n",
       "      <td>0</td>\n",
       "      <td>99</td>\n",
       "      <td>18</td>\n",
       "      <td>2</td>\n",
       "      <td>0</td>\n",
       "    </tr>\n",
       "    <tr>\n",
       "      <th>3</th>\n",
       "      <td>3.5</td>\n",
       "      <td>-2.0</td>\n",
       "      <td>5.0</td>\n",
       "      <td>0.0</td>\n",
       "      <td>13</td>\n",
       "      <td>2.5</td>\n",
       "      <td>-2</td>\n",
       "      <td>5</td>\n",
       "      <td>2.5</td>\n",
       "      <td>-3</td>\n",
       "      <td>...</td>\n",
       "      <td>1</td>\n",
       "      <td>0</td>\n",
       "      <td>0</td>\n",
       "      <td>0</td>\n",
       "      <td>0</td>\n",
       "      <td>0</td>\n",
       "      <td>39</td>\n",
       "      <td>30</td>\n",
       "      <td>4</td>\n",
       "      <td>1</td>\n",
       "    </tr>\n",
       "    <tr>\n",
       "      <th>4</th>\n",
       "      <td>3.5</td>\n",
       "      <td>-2.0</td>\n",
       "      <td>5.0</td>\n",
       "      <td>0.0</td>\n",
       "      <td>39</td>\n",
       "      <td>2.5</td>\n",
       "      <td>-3</td>\n",
       "      <td>7</td>\n",
       "      <td>2.5</td>\n",
       "      <td>-3</td>\n",
       "      <td>...</td>\n",
       "      <td>0</td>\n",
       "      <td>0</td>\n",
       "      <td>1</td>\n",
       "      <td>0</td>\n",
       "      <td>0</td>\n",
       "      <td>0</td>\n",
       "      <td>60</td>\n",
       "      <td>19</td>\n",
       "      <td>9</td>\n",
       "      <td>0</td>\n",
       "    </tr>\n",
       "  </tbody>\n",
       "</table>\n",
       "<p>5 rows × 24 columns</p>\n",
       "</div>"
      ],
      "text/plain": [
       "   Secret_dwarf_info_1  Secret_dwarf_info_2  Secret_dwarf_info_3  \\\n",
       "0                  3.5                 -2.0                  5.0   \n",
       "1                  3.5                 -2.0                  5.0   \n",
       "2                  3.5                 -2.0                  5.0   \n",
       "3                  3.5                 -2.0                  5.0   \n",
       "4                  3.5                 -2.0                  5.0   \n",
       "\n",
       "   Successful_deals_count  Tavern  Hashed_deal_detail_1  Hashed_deal_detail_2  \\\n",
       "0                     0.0       7                   2.5                    -3   \n",
       "1                     2.0       7                   2.5                    -3   \n",
       "2                     0.0       7                   2.5                    -3   \n",
       "3                     0.0      13                   2.5                    -2   \n",
       "4                     0.0      39                   2.5                    -3   \n",
       "\n",
       "   Hashed_deal_detail_3  Hashed_deal_detail_4  Hashed_deal_detail_5  ...  \\\n",
       "0                     8                   2.5                    -3  ...   \n",
       "1                    14                   3.5                    -3  ...   \n",
       "2                     8                   2.5                    -3  ...   \n",
       "3                     5                   2.5                    -3  ...   \n",
       "4                     7                   2.5                    -3  ...   \n",
       "\n",
       "   Tavern_district_2  Tavern_district_3  Tavern_district_4  Tavern_district_5  \\\n",
       "0                  0                  1                  0                  0   \n",
       "1                  0                  0                  1                  0   \n",
       "2                  0                  0                  0                  0   \n",
       "3                  1                  0                  0                  0   \n",
       "4                  0                  0                  1                  0   \n",
       "\n",
       "   Tavern_district_6  Tavern_district_7  day_before_first_defolt  Deal_day  \\\n",
       "0                  0                  0                       68         5   \n",
       "1                  0                  0                      222        26   \n",
       "2                  1                  0                       99        18   \n",
       "3                  0                  0                       39        30   \n",
       "4                  0                  0                       60        19   \n",
       "\n",
       "   Deal_month  is_weekend  \n",
       "0          11           0  \n",
       "1           8           0  \n",
       "2           2           0  \n",
       "3           4           1  \n",
       "4           9           0  \n",
       "\n",
       "[5 rows x 24 columns]"
      ]
     },
     "execution_count": 14,
     "metadata": {},
     "output_type": "execute_result"
    }
   ],
   "source": [
    "dwarves = pd.read_csv(\"../data/interim/dwarves_secret_info.csv\")\n",
    "dwarves.head()"
   ]
  },
  {
   "attachments": {},
   "cell_type": "markdown",
   "metadata": {},
   "source": [
    "Пробуем перебор новых фич (в функции остались только эффективные)"
   ]
  },
  {
   "cell_type": "code",
   "execution_count": 15,
   "metadata": {},
   "outputs": [],
   "source": [
    "feature_combinations(dwarves)"
   ]
  },
  {
   "attachments": {},
   "cell_type": "markdown",
   "metadata": {},
   "source": [
    "# Подготавливаем данные к catboost и заводим его"
   ]
  },
  {
   "cell_type": "code",
   "execution_count": 21,
   "metadata": {},
   "outputs": [],
   "source": [
    "# Подготовим данные для catboost и оценки\n",
    "train_pool, test_pool, X_test, y_test = preprocessing_catboost_more_features(dwarves, train=True, test_size=0.30)"
   ]
  },
  {
   "cell_type": "code",
   "execution_count": 22,
   "metadata": {},
   "outputs": [
    {
     "data": {
      "text/plain": [
       "<catboost.core.CatBoostClassifier at 0x28c141db7c0>"
      ]
     },
     "execution_count": 22,
     "metadata": {},
     "output_type": "execute_result"
    }
   ],
   "source": [
    "clf = CatBoostClassifier(l2_leaf_reg=10000, depth=2, learning_rate=0.99, iterations=1000, random_seed=2023)\n",
    "clf.fit(train_pool, verbose=False)"
   ]
  },
  {
   "cell_type": "code",
   "execution_count": 23,
   "metadata": {},
   "outputs": [
    {
     "data": {
      "text/plain": [
       "(0.7007936507936507, 0.085)"
      ]
     },
     "execution_count": 23,
     "metadata": {},
     "output_type": "execute_result"
    }
   ],
   "source": [
    "# Переберем порог для достижения максимального ROC-AUC (наша целевая метрика)\n",
    "max_roc_auc = (0, 0)\n",
    "for i in range(1,30):\n",
    "    clf.set_probability_threshold(i * 0.005)\n",
    "    y_pred = clf.predict(test_pool)\n",
    "    if roc_auc_score(y_test, y_pred) > max_roc_auc[0]:\n",
    "        max_roc_auc = (max(roc_auc_score(y_test, y_pred), max_roc_auc[0]), i * 0.005)\n",
    "max_roc_auc #ROC-AUC, threshold"
   ]
  },
  {
   "cell_type": "code",
   "execution_count": 24,
   "metadata": {},
   "outputs": [
    {
     "name": "stdout",
     "output_type": "stream",
     "text": [
      "[['34.09768036348506' 'day_before_first_defolt']\n",
      " ['24.932098481335967' 'Secret_33']\n",
      " ['13.624336692716556' 'Age']\n",
      " ['6.22098665540466' 'Tavern']\n",
      " ['4.129221615796422' 'Deal_month']\n",
      " ['2.7400423879344316' 'Gender']\n",
      " ['2.2691660901999997' 'Hashed_deal_detail_3']\n",
      " ['2.1426661588751457' 'Hashed_deal_detail_1']\n",
      " ['1.9930954426067922' 'Secret_dwarf_info_1']\n",
      " ['1.8035219695184466' 'Secret_22']\n",
      " ['1.2103099371911532' 'Tavern_district_3']\n",
      " ['1.1202483419559028' 'Deal_day']\n",
      " ['0.8985594004818683' 'Secret_dwarf_info_3']\n",
      " ['0.867387223573969' 'Tavern_district_4']\n",
      " ['0.6681752456885852' 'is_weekend']\n",
      " ['0.34932796420153817' 'Hashed_deal_detail_4']\n",
      " ['0.34515162597690924' 'Tavern_district_6']\n",
      " ['0.20947410370861466' 'Secret_12']\n",
      " ['0.17407458096555595' 'Hashed_deal_detail_2']\n",
      " ['0.12228256364197136' 'Successful_deals_count']\n",
      " ['0.0484347592933613' 'Secret_31']\n",
      " ['0.02896387751399657' 'Hashed_deal_detail_5']\n",
      " ['0.0044163560456928356' 'Secret_23']\n",
      " ['0.0003767768892794875' 'Tavern_district_2']\n",
      " ['1.3849980862916367e-06' 'Secret_dwarf_info_2']\n",
      " ['0.0' 'Tavern_district_7']\n",
      " ['0.0' 'Tavern_district_5']\n",
      " ['0.0' 'Tavern_district_1']\n",
      " ['0.0' 'Secret_11']]\n"
     ]
    }
   ],
   "source": [
    "# Отметим важные факторы с текущим датасетом\n",
    "importances = clf.feature_importances_\n",
    "names = train_pool.get_feature_names()\n",
    "\n",
    "named_importances = [[importances[i], names[i]] for i in range(len(names))]\n",
    "print(np.array(sorted(named_importances, reverse=True)))"
   ]
  },
  {
   "attachments": {},
   "cell_type": "markdown",
   "metadata": {},
   "source": [
    "# Готовимся к сдаче на тестовом датасете"
   ]
  },
  {
   "attachments": {},
   "cell_type": "markdown",
   "metadata": {},
   "source": [
    "- готовим базовый test датасет по тому же Pipeline-у,\n",
    "- обучаем модель на всех тренировочных данных (test_size=0.01)\n",
    "- выставляем посчитанный threshold\n",
    "- считаем предсказания\n",
    "- выгружаем в csv"
   ]
  },
  {
   "attachments": {},
   "cell_type": "markdown",
   "metadata": {},
   "source": [
    "Предсказания на test выборке"
   ]
  },
  {
   "cell_type": "code",
   "execution_count": 8,
   "metadata": {},
   "outputs": [],
   "source": [
    "# преобразуем test датасет к Pool-у для предсказаний\n",
    "dwarves_lms = clean_data(path=\"../data/raw/test.csv\", secret=True)\n",
    "# добавляем модифицированные фичи\n",
    "feature_combinations(dwarves_lms)"
   ]
  },
  {
   "cell_type": "code",
   "execution_count": 9,
   "metadata": {},
   "outputs": [],
   "source": [
    "pool_test_lms = preprocessing_catboost_more_features(dwarves_lms, train=False)\n",
    "# применяем threshold с обученной модели на всех данных\n",
    "clf.set_probability_threshold(max_roc_auc[0])"
   ]
  },
  {
   "cell_type": "code",
   "execution_count": 10,
   "metadata": {},
   "outputs": [
    {
     "data": {
      "text/html": [
       "<div>\n",
       "<style scoped>\n",
       "    .dataframe tbody tr th:only-of-type {\n",
       "        vertical-align: middle;\n",
       "    }\n",
       "\n",
       "    .dataframe tbody tr th {\n",
       "        vertical-align: top;\n",
       "    }\n",
       "\n",
       "    .dataframe thead th {\n",
       "        text-align: right;\n",
       "    }\n",
       "</style>\n",
       "<table border=\"1\" class=\"dataframe\">\n",
       "  <thead>\n",
       "    <tr style=\"text-align: right;\">\n",
       "      <th></th>\n",
       "      <th>Prediction</th>\n",
       "    </tr>\n",
       "  </thead>\n",
       "  <tbody>\n",
       "    <tr>\n",
       "      <th>0</th>\n",
       "      <td>0.038218</td>\n",
       "    </tr>\n",
       "    <tr>\n",
       "      <th>1</th>\n",
       "      <td>0.054822</td>\n",
       "    </tr>\n",
       "    <tr>\n",
       "      <th>2</th>\n",
       "      <td>0.147681</td>\n",
       "    </tr>\n",
       "    <tr>\n",
       "      <th>3</th>\n",
       "      <td>0.066625</td>\n",
       "    </tr>\n",
       "    <tr>\n",
       "      <th>4</th>\n",
       "      <td>0.173350</td>\n",
       "    </tr>\n",
       "    <tr>\n",
       "      <th>...</th>\n",
       "      <td>...</td>\n",
       "    </tr>\n",
       "    <tr>\n",
       "      <th>984</th>\n",
       "      <td>0.067948</td>\n",
       "    </tr>\n",
       "    <tr>\n",
       "      <th>985</th>\n",
       "      <td>0.191885</td>\n",
       "    </tr>\n",
       "    <tr>\n",
       "      <th>986</th>\n",
       "      <td>0.071079</td>\n",
       "    </tr>\n",
       "    <tr>\n",
       "      <th>987</th>\n",
       "      <td>0.093484</td>\n",
       "    </tr>\n",
       "    <tr>\n",
       "      <th>988</th>\n",
       "      <td>0.069653</td>\n",
       "    </tr>\n",
       "  </tbody>\n",
       "</table>\n",
       "<p>989 rows × 1 columns</p>\n",
       "</div>"
      ],
      "text/plain": [
       "     Prediction\n",
       "0      0.038218\n",
       "1      0.054822\n",
       "2      0.147681\n",
       "3      0.066625\n",
       "4      0.173350\n",
       "..          ...\n",
       "984    0.067948\n",
       "985    0.191885\n",
       "986    0.071079\n",
       "987    0.093484\n",
       "988    0.069653\n",
       "\n",
       "[989 rows x 1 columns]"
      ]
     },
     "execution_count": 10,
     "metadata": {},
     "output_type": "execute_result"
    }
   ],
   "source": [
    "# предсказания просят предоставить в вероятностях\n",
    "y_pred = clf.predict_proba(pool_test_lms)\n",
    "prediction = pd.DataFrame(y_pred[:, 1], columns=['Prediction'])\n",
    "prediction"
   ]
  },
  {
   "attachments": {},
   "cell_type": "markdown",
   "metadata": {},
   "source": [
    "Собираем предсказания в csv"
   ]
  },
  {
   "cell_type": "code",
   "execution_count": 11,
   "metadata": {},
   "outputs": [
    {
     "name": "stderr",
     "output_type": "stream",
     "text": [
      "C:\\Users\\Dmitry\\AppData\\Local\\Temp\\ipykernel_1288\\2387612160.py:4: SettingWithCopyWarning: \n",
      "A value is trying to be set on a copy of a slice from a DataFrame.\n",
      "Try using .loc[row_indexer,col_indexer] = value instead\n",
      "\n",
      "See the caveats in the documentation: https://pandas.pydata.org/pandas-docs/stable/user_guide/indexing.html#returning-a-view-versus-a-copy\n",
      "  prediction_lms['Prediction'] = prediction\n"
     ]
    },
    {
     "data": {
      "text/html": [
       "<div>\n",
       "<style scoped>\n",
       "    .dataframe tbody tr th:only-of-type {\n",
       "        vertical-align: middle;\n",
       "    }\n",
       "\n",
       "    .dataframe tbody tr th {\n",
       "        vertical-align: top;\n",
       "    }\n",
       "\n",
       "    .dataframe thead th {\n",
       "        text-align: right;\n",
       "    }\n",
       "</style>\n",
       "<table border=\"1\" class=\"dataframe\">\n",
       "  <thead>\n",
       "    <tr style=\"text-align: right;\">\n",
       "      <th></th>\n",
       "      <th>Deal_id</th>\n",
       "      <th>Prediction</th>\n",
       "    </tr>\n",
       "  </thead>\n",
       "  <tbody>\n",
       "    <tr>\n",
       "      <th>0</th>\n",
       "      <td>72875713</td>\n",
       "      <td>0.038218</td>\n",
       "    </tr>\n",
       "    <tr>\n",
       "      <th>1</th>\n",
       "      <td>75825544</td>\n",
       "      <td>0.054822</td>\n",
       "    </tr>\n",
       "    <tr>\n",
       "      <th>2</th>\n",
       "      <td>81809181</td>\n",
       "      <td>0.147681</td>\n",
       "    </tr>\n",
       "    <tr>\n",
       "      <th>3</th>\n",
       "      <td>87083256</td>\n",
       "      <td>0.066625</td>\n",
       "    </tr>\n",
       "    <tr>\n",
       "      <th>4</th>\n",
       "      <td>84651519</td>\n",
       "      <td>0.173350</td>\n",
       "    </tr>\n",
       "    <tr>\n",
       "      <th>...</th>\n",
       "      <td>...</td>\n",
       "      <td>...</td>\n",
       "    </tr>\n",
       "    <tr>\n",
       "      <th>984</th>\n",
       "      <td>86959667</td>\n",
       "      <td>0.067948</td>\n",
       "    </tr>\n",
       "    <tr>\n",
       "      <th>985</th>\n",
       "      <td>77574469</td>\n",
       "      <td>0.191885</td>\n",
       "    </tr>\n",
       "    <tr>\n",
       "      <th>986</th>\n",
       "      <td>73676542</td>\n",
       "      <td>0.071079</td>\n",
       "    </tr>\n",
       "    <tr>\n",
       "      <th>987</th>\n",
       "      <td>81633790</td>\n",
       "      <td>0.093484</td>\n",
       "    </tr>\n",
       "    <tr>\n",
       "      <th>988</th>\n",
       "      <td>78138845</td>\n",
       "      <td>0.069653</td>\n",
       "    </tr>\n",
       "  </tbody>\n",
       "</table>\n",
       "<p>989 rows × 2 columns</p>\n",
       "</div>"
      ],
      "text/plain": [
       "      Deal_id  Prediction\n",
       "0    72875713    0.038218\n",
       "1    75825544    0.054822\n",
       "2    81809181    0.147681\n",
       "3    87083256    0.066625\n",
       "4    84651519    0.173350\n",
       "..        ...         ...\n",
       "984  86959667    0.067948\n",
       "985  77574469    0.191885\n",
       "986  73676542    0.071079\n",
       "987  81633790    0.093484\n",
       "988  78138845    0.069653\n",
       "\n",
       "[989 rows x 2 columns]"
      ]
     },
     "execution_count": 11,
     "metadata": {},
     "output_type": "execute_result"
    }
   ],
   "source": [
    "# датасет к сдаче в LMS\n",
    "test_df = pd.read_csv(\"../data/raw/test.csv\")\n",
    "prediction_lms= test_df[['Deal_id']]\n",
    "prediction_lms['Prediction'] = prediction\n",
    "prediction_lms"
   ]
  },
  {
   "cell_type": "code",
   "execution_count": 12,
   "metadata": {},
   "outputs": [],
   "source": [
    "prediction_lms.to_csv(\"../data/processed/prediction_CB_030_10000_6_500.csv\", index=False)"
   ]
  },
  {
   "cell_type": "code",
   "execution_count": 35,
   "metadata": {},
   "outputs": [],
   "source": [
    "# 0.684 - требуется не ниже 0.7, не прошло на половине датасета\n",
    "# CatBoostClassifier(l2_leaf_reg=40000, depth=3, learning_rate=0.99, iterations=300, random_seed=2023)\n",
    "# 0.681 - на полном датасете"
   ]
  },
  {
   "attachments": {},
   "cell_type": "markdown",
   "metadata": {},
   "source": [
    "Подбор гиперпараметров catboost-а не дал проходного ROC-AUC, попробуем на SVC и случайном лесе.\n",
    "\n",
    "Продолжение (завершение) в HW_6_lin_model"
   ]
  }
 ],
 "metadata": {
  "kernelspec": {
   "display_name": "venv_hw_6_interview",
   "language": "python",
   "name": "python3"
  },
  "language_info": {
   "codemirror_mode": {
    "name": "ipython",
    "version": 3
   },
   "file_extension": ".py",
   "mimetype": "text/x-python",
   "name": "python",
   "nbconvert_exporter": "python",
   "pygments_lexer": "ipython3",
   "version": "3.9.12 (main, Apr  4 2022, 05:22:27) [MSC v.1916 64 bit (AMD64)]"
  },
  "orig_nbformat": 4,
  "vscode": {
   "interpreter": {
    "hash": "09851fdf12f7a5f7917dc25a38b707b0111f65a3810a4db585a9d594cea778f2"
   }
  }
 },
 "nbformat": 4,
 "nbformat_minor": 2
}
